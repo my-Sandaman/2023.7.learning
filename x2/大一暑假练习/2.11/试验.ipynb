{
 "cells": [
  {
   "cell_type": "code",
   "execution_count": 3,
   "metadata": {
    "collapsed": true
   },
   "outputs": [
    {
     "name": "stdout",
     "output_type": "stream",
     "text": [
      "[1. 1.] /n ---------\n",
      " message: The solution converged.\n",
      " success: True\n",
      "  status: 1\n",
      "     fun: [ 0.000e+00  0.000e+00]\n",
      "       x: [ 1.000e+00  1.000e+00]\n",
      "    nfev: 4\n",
      "    fjac: [[-8.944e-01 -4.472e-01]\n",
      "           [ 4.472e-01 -8.944e-01]]\n",
      "       r: [-2.236e+00  4.472e-01  8.944e-01]\n",
      "     qtf: [ 0.000e+00  0.000e+00]\n"
     ]
    }
   ],
   "source": [
    "from scipy.optimize import fsolve,root\n",
    "fx = lambda x :[x[0]**2-1,x[0]-x[1]]\n",
    "s1 = fsolve(fx,[1,1])\n",
    "s2 = root(fx,[1,1])\n",
    "print(s1,'/n','---------')\n",
    "print(s2)"
   ]
  },
  {
   "cell_type": "code",
   "execution_count": 2,
   "outputs": [
    {
     "name": "stdout",
     "output_type": "stream",
     "text": [
      " message: The solution converged.\n",
      " success: True\n",
      "  status: 1\n",
      "     fun: [ 0.000e+00  0.000e+00]\n",
      "       x: [ 1.000e+00  1.000e+00]\n",
      "    nfev: 4\n",
      "    fjac: [[-8.944e-01 -4.472e-01]\n",
      "           [ 4.472e-01 -8.944e-01]]\n",
      "       r: [-2.236e+00  4.472e-01  8.944e-01]\n",
      "     qtf: [ 0.000e+00  0.000e+00]\n"
     ]
    }
   ],
   "source": [
    "print(s2)"
   ],
   "metadata": {
    "collapsed": false
   }
  },
  {
   "cell_type": "code",
   "execution_count": null,
   "outputs": [],
   "source": [],
   "metadata": {
    "collapsed": false
   }
  }
 ],
 "metadata": {
  "kernelspec": {
   "display_name": "Python 3",
   "language": "python",
   "name": "python3"
  },
  "language_info": {
   "codemirror_mode": {
    "name": "ipython",
    "version": 2
   },
   "file_extension": ".py",
   "mimetype": "text/x-python",
   "name": "python",
   "nbconvert_exporter": "python",
   "pygments_lexer": "ipython2",
   "version": "2.7.6"
  }
 },
 "nbformat": 4,
 "nbformat_minor": 0
}
