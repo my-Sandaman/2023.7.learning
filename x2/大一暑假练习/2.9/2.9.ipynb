{
 "cells": [
  {
   "cell_type": "code",
   "execution_count": 2,
   "metadata": {
    "collapsed": true
   },
   "outputs": [
    {
     "name": "stdout",
     "output_type": "stream",
     "text": [
      "[(1/3 - sqrt(34)/3, 5/9 + sqrt(34)/9), (1/3 + sqrt(34)/3, 5/9 - sqrt(34)/9)]\n"
     ]
    }
   ],
   "source": [
    "import sympy as sp#符号解\n",
    "\n",
    "x, y = sp.symbols('x y')\n",
    "\n",
    "eq1 = x**2 - y - x - 3\n",
    "eq2 = x + 3*y -2\n",
    "\n",
    "sol = sp.solve([eq1, eq2], [x,y])\n",
    "\n",
    "print(sol)"
   ]
  },
  {
   "cell_type": "code",
   "execution_count": null,
   "outputs": [],
   "source": [],
   "metadata": {
    "collapsed": false
   }
  }
 ],
 "metadata": {
  "kernelspec": {
   "display_name": "Python 3",
   "language": "python",
   "name": "python3"
  },
  "language_info": {
   "codemirror_mode": {
    "name": "ipython",
    "version": 2
   },
   "file_extension": ".py",
   "mimetype": "text/x-python",
   "name": "python",
   "nbconvert_exporter": "python",
   "pygments_lexer": "ipython2",
   "version": "2.7.6"
  }
 },
 "nbformat": 4,
 "nbformat_minor": 0
}
