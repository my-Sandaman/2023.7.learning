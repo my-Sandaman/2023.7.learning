{
 "cells": [
  {
   "cell_type": "code",
   "execution_count": 1,
   "metadata": {
    "collapsed": true
   },
   "outputs": [
    {
     "name": "stdout",
     "output_type": "stream",
     "text": [
      "容器体积: 56.54866776461629\n",
      "抽水功: 61.57521601035995\n"
     ]
    }
   ],
   "source": [
    "import numpy as np\n",
    "from scipy.integrate import quad\n",
    "\n",
    "def f1(y):\n",
    "    return 2*np.sqrt(y)\n",
    "\n",
    "def f2(y):\n",
    "    return 2*np.sqrt(1-y)\n",
    "\n",
    "# 体积积分函数\n",
    "def v_func(y):\n",
    "    if 1 < y < 3:\n",
    "        return np.pi * f1(y)**2\n",
    "    elif y < 1:\n",
    "        return np.pi * f2(y)**2\n",
    "\n",
    "# 计算体积\n",
    "v, _ = quad(v_func, 0, 3)\n",
    "print('容器体积:', v)\n",
    "\n",
    "# 抽水功积分函数\n",
    "def w_func(y):\n",
    "    dy = 0.001 # 小段高度\n",
    "    return 1000 * 9.8 * dy * np.pi * f2(y)**2\n",
    "\n",
    "# 计算抽水功\n",
    "w, _ = quad(w_func, 0, 1)\n",
    "print('抽水功:', w)"
   ]
  },
  {
   "cell_type": "code",
   "execution_count": null,
   "outputs": [],
   "source": [],
   "metadata": {
    "collapsed": false
   }
  }
 ],
 "metadata": {
  "kernelspec": {
   "display_name": "Python 3",
   "language": "python",
   "name": "python3"
  },
  "language_info": {
   "codemirror_mode": {
    "name": "ipython",
    "version": 2
   },
   "file_extension": ".py",
   "mimetype": "text/x-python",
   "name": "python",
   "nbconvert_exporter": "python",
   "pygments_lexer": "ipython2",
   "version": "2.7.6"
  }
 },
 "nbformat": 4,
 "nbformat_minor": 0
}
