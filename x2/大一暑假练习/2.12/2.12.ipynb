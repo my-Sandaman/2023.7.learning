{
 "cells": [
  {
   "cell_type": "code",
   "execution_count": 2,
   "metadata": {
    "collapsed": true
   },
   "outputs": [
    {
     "name": "stdout",
     "output_type": "stream",
     "text": [
      "特征值: [2.+0.j 1.+0.j 1.+0.j]\n",
      "特征向量:\n",
      "[[ 0.          0.40824829  0.40824829]\n",
      " [ 0.          0.81649658  0.81649658]\n",
      " [ 1.         -0.40824829 -0.40824829]]\n"
     ]
    }
   ],
   "source": [
    "import numpy as np\n",
    "from scipy import linalg\n",
    "\n",
    "A = np.array([[-1, 1, 0], [-4, 3, 0], [1, 0, 2]])  #定义矩阵\n",
    "eigenvalues, eigenvectors = linalg.eig(A)  #使用linalg模块中的eig()函数求数值解\n",
    "print(\"特征值:\", eigenvalues)\n",
    "print(\"特征向量:\")\n",
    "print(eigenvectors)\n",
    "\n"
   ]
  },
  {
   "cell_type": "code",
   "execution_count": 3,
   "outputs": [
    {
     "name": "stdout",
     "output_type": "stream",
     "text": [
      "特征值为： {1: 2, 2: 1}\n",
      "特征向量为：\n",
      " [(1, 2, [Matrix([\n",
      "[-1],\n",
      "[-2],\n",
      "[ 1]])]), (2, 1, [Matrix([\n",
      "[0],\n",
      "[0],\n",
      "[1]])])]\n"
     ]
    }
   ],
   "source": [
    "import numpy as np\n",
    "from scipy import linalg\n",
    "import sympy as sp\n",
    "\n",
    "a = sp.Matrix([[-1, 1, 0], [-4, 3, 0], [1, 0, 2]])\n",
    "print('特征值为：', a.eigenvals())\n",
    "print('特征向量为：\\n', a.eigenvects())#符号解"
   ],
   "metadata": {
    "collapsed": false
   }
  },
  {
   "cell_type": "code",
   "execution_count": null,
   "outputs": [],
   "source": [],
   "metadata": {
    "collapsed": false
   }
  }
 ],
 "metadata": {
  "kernelspec": {
   "display_name": "Python 3",
   "language": "python",
   "name": "python3"
  },
  "language_info": {
   "codemirror_mode": {
    "name": "ipython",
    "version": 2
   },
   "file_extension": ".py",
   "mimetype": "text/x-python",
   "name": "python",
   "nbconvert_exporter": "python",
   "pygments_lexer": "ipython2",
   "version": "2.7.6"
  }
 },
 "nbformat": 4,
 "nbformat_minor": 0
}
