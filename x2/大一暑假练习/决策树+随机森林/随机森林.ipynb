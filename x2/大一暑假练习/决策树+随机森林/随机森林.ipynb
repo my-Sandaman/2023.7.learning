{
 "cells": [
  {
   "cell_type": "code",
   "execution_count": 57,
   "outputs": [
    {
     "name": "stderr",
     "output_type": "stream",
     "text": [
      "C:\\Users\\岢\\AppData\\Local\\Temp\\ipykernel_23240\\48223295.py:20: DataConversionWarning: A column-vector y was passed when a 1d array was expected. Please change the shape of y to (n_samples,), for example using ravel().\n",
      "  clf = clf.fit(features, label)\n",
      "C:\\Users\\岢\\AppData\\Local\\Temp\\ipykernel_23240\\48223295.py:39: DataConversionWarning: A column-vector y was passed when a 1d array was expected. Please change the shape of y to (n_samples,), for example using ravel().\n",
      "  clf = clf.fit(X_train, y_train)\n"
     ]
    },
    {
     "name": "stdout",
     "output_type": "stream",
     "text": [
      "Accuracy: 0.8269614616920006\n"
     ]
    }
   ],
   "source": [
    "import pandas as pd\n",
    "from sklearn import preprocessing\n",
    "# 改为导入随机森林\n",
    "from sklearn.ensemble import RandomForestClassifier\n",
    "\n",
    "adult_data = pd.read_csv('./DecisionTree.csv')\n",
    "\n",
    "feature_columns = [u'workclass', u'education', u'marital-status', u'occupation', u'relationship', u'race', u'gender', u'native-country']\n",
    "label_column = ['income']#定义特征属性列和目标标签列income\n",
    "\n",
    "features = adult_data[feature_columns]\n",
    "label = adult_data[label_column]\n",
    "\n",
    "features = pd.get_dummies(features)#使用get_dummies方法对分类特征进行onehot编码\n",
    "\n",
    "# 初始化随机森林模型\n",
    "clf = RandomForestClassifier(n_estimators=100, random_state=2022)#初始化随机森林分类器,指定森林包含100棵决策树,random_state固定随机种子\n",
    "\n",
    "# 拟合随机森林模型\n",
    "clf = clf.fit(features, label)#将分类变量转变为模型可以处理的数值特征\n",
    "\n",
    "# 可视化,输出一棵决策树\n",
    "from sklearn.tree import export_graphviz\n",
    "import graphviz\n",
    "tree_to_plot = clf.estimators_[0]\n",
    "export_graphviz(tree_to_plot, out_file='tree.dot',\n",
    "                feature_names=features.columns,\n",
    "                class_names=['<=50K','>50K'],\n",
    "                rounded=True, filled=True)\n",
    "\n",
    "with open(\"tree.dot\") as f:\n",
    "    dot_graph = f.read()\n",
    "graphviz.Source(dot_graph)\n",
    "\n",
    "# 模型评估\n",
    "from sklearn.model_selection import train_test_split\n",
    "X_train, X_test, y_train, y_test = train_test_split(features, label, test_size=0.2, random_state=2022)\n",
    "\n",
    "clf = clf.fit(X_train, y_train)\n",
    "y_pred = clf.predict(X_test)\n",
    "\n",
    "from sklearn.metrics import accuracy_score, classification_report\n",
    "print(\"Accuracy:\", accuracy_score(y_test, y_pred))#直接计算准确率\n"
   ],
   "metadata": {
    "collapsed": false
   }
  },
  {
   "cell_type": "code",
   "execution_count": 58,
   "outputs": [
    {
     "name": "stdout",
     "output_type": "stream",
     "text": [
      "              precision    recall  f1-score   support\n",
      "\n",
      "       <=50K       0.87      0.91      0.89      4954\n",
      "        >50K       0.66      0.57      0.61      1559\n",
      "\n",
      "    accuracy                           0.83      6513\n",
      "   macro avg       0.77      0.74      0.75      6513\n",
      "weighted avg       0.82      0.83      0.82      6513\n",
      "\n"
     ]
    }
   ],
   "source": [
    "print(classification_report(y_test, y_pred))#实际和预测对比"
   ],
   "metadata": {
    "collapsed": false
   }
  },
  {
   "cell_type": "code",
   "execution_count": null,
   "outputs": [],
   "source": [],
   "metadata": {
    "collapsed": false
   }
  }
 ],
 "metadata": {
  "kernelspec": {
   "display_name": "Python 3",
   "language": "python",
   "name": "python3"
  },
  "language_info": {
   "codemirror_mode": {
    "name": "ipython",
    "version": 2
   },
   "file_extension": ".py",
   "mimetype": "text/x-python",
   "name": "python",
   "nbconvert_exporter": "python",
   "pygments_lexer": "ipython2",
   "version": "2.7.6"
  }
 },
 "nbformat": 4,
 "nbformat_minor": 0
}
