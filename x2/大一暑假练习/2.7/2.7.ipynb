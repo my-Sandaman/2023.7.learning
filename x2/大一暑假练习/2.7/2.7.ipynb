{
 "cells": [
  {
   "cell_type": "code",
   "execution_count": 1,
   "metadata": {
    "collapsed": true
   },
   "outputs": [
    {
     "name": "stdout",
     "output_type": "stream",
     "text": [
      "方程组有唯一解: [-4.05323966e+15  1.48618788e+16  1.35107989e+16]\n"
     ]
    }
   ],
   "source": [
    "import numpy as np\n",
    "\n",
    "A = np.array([[4,2,-1], [3,-1,2],[11,3,0]])\n",
    "b = np.array([2,10,8])\n",
    "\n",
    "det = np.linalg.det(A)\n",
    "if det != 0:\n",
    "    x = np.linalg.solve(A, b)#直接求解\n",
    "    print(\"方程组有唯一解:\", x)\n",
    "if det == 0:\n",
    "    r = np.linalg.matrix_rank(A)\n",
    "    if r < A.shape[1]:\n",
    "        print(\"方程组无解\")\n",
    "    else:\n",
    "        print(\"方程组有无穷多解\")"
   ]
  },
  {
   "cell_type": "code",
   "execution_count": 2,
   "outputs": [
    {
     "ename": "LinAlgError",
     "evalue": "Last 2 dimensions of the array must be square",
     "output_type": "error",
     "traceback": [
      "\u001B[1;31m---------------------------------------------------------------------------\u001B[0m",
      "\u001B[1;31mLinAlgError\u001B[0m                               Traceback (most recent call last)",
      "Cell \u001B[1;32mIn[2], line 6\u001B[0m\n\u001B[0;32m      3\u001B[0m A \u001B[38;5;241m=\u001B[39m np\u001B[38;5;241m.\u001B[39marray([[\u001B[38;5;241m2\u001B[39m,\u001B[38;5;241m3\u001B[39m,\u001B[38;5;241m1\u001B[39m], [\u001B[38;5;241m1\u001B[39m,\u001B[38;5;241m-\u001B[39m\u001B[38;5;241m2\u001B[39m,\u001B[38;5;241m4\u001B[39m],[\u001B[38;5;241m3\u001B[39m,\u001B[38;5;241m8\u001B[39m,\u001B[38;5;241m-\u001B[39m\u001B[38;5;241m2\u001B[39m],[\u001B[38;5;241m4\u001B[39m,\u001B[38;5;241m-\u001B[39m\u001B[38;5;241m1\u001B[39m,\u001B[38;5;241m9\u001B[39m]])\n\u001B[0;32m      4\u001B[0m b \u001B[38;5;241m=\u001B[39m np\u001B[38;5;241m.\u001B[39marray([\u001B[38;5;241m4\u001B[39m,\u001B[38;5;241m-\u001B[39m\u001B[38;5;241m5\u001B[39m,\u001B[38;5;241m13\u001B[39m,\u001B[38;5;241m-\u001B[39m\u001B[38;5;241m6\u001B[39m])\n\u001B[1;32m----> 6\u001B[0m det \u001B[38;5;241m=\u001B[39m \u001B[43mnp\u001B[49m\u001B[38;5;241;43m.\u001B[39;49m\u001B[43mlinalg\u001B[49m\u001B[38;5;241;43m.\u001B[39;49m\u001B[43mdet\u001B[49m\u001B[43m(\u001B[49m\u001B[43mA\u001B[49m\u001B[43m)\u001B[49m\n\u001B[0;32m      7\u001B[0m \u001B[38;5;28;01mif\u001B[39;00m det \u001B[38;5;241m!=\u001B[39m \u001B[38;5;241m0\u001B[39m:\n\u001B[0;32m      8\u001B[0m     x \u001B[38;5;241m=\u001B[39m np\u001B[38;5;241m.\u001B[39mlinalg\u001B[38;5;241m.\u001B[39msolve(A, b)\u001B[38;5;66;03m#直接求解\u001B[39;00m\n",
      "File \u001B[1;32m<__array_function__ internals>:200\u001B[0m, in \u001B[0;36mdet\u001B[1;34m(*args, **kwargs)\u001B[0m\n",
      "File \u001B[1;32mD:\\python\\Environment\\lib\\site-packages\\numpy\\linalg\\linalg.py:2136\u001B[0m, in \u001B[0;36mdet\u001B[1;34m(a)\u001B[0m\n\u001B[0;32m   2134\u001B[0m a \u001B[38;5;241m=\u001B[39m asarray(a)\n\u001B[0;32m   2135\u001B[0m _assert_stacked_2d(a)\n\u001B[1;32m-> 2136\u001B[0m \u001B[43m_assert_stacked_square\u001B[49m\u001B[43m(\u001B[49m\u001B[43ma\u001B[49m\u001B[43m)\u001B[49m\n\u001B[0;32m   2137\u001B[0m t, result_t \u001B[38;5;241m=\u001B[39m _commonType(a)\n\u001B[0;32m   2138\u001B[0m signature \u001B[38;5;241m=\u001B[39m \u001B[38;5;124m'\u001B[39m\u001B[38;5;124mD->D\u001B[39m\u001B[38;5;124m'\u001B[39m \u001B[38;5;28;01mif\u001B[39;00m isComplexType(t) \u001B[38;5;28;01melse\u001B[39;00m \u001B[38;5;124m'\u001B[39m\u001B[38;5;124md->d\u001B[39m\u001B[38;5;124m'\u001B[39m\n",
      "File \u001B[1;32mD:\\python\\Environment\\lib\\site-packages\\numpy\\linalg\\linalg.py:190\u001B[0m, in \u001B[0;36m_assert_stacked_square\u001B[1;34m(*arrays)\u001B[0m\n\u001B[0;32m    188\u001B[0m m, n \u001B[38;5;241m=\u001B[39m a\u001B[38;5;241m.\u001B[39mshape[\u001B[38;5;241m-\u001B[39m\u001B[38;5;241m2\u001B[39m:]\n\u001B[0;32m    189\u001B[0m \u001B[38;5;28;01mif\u001B[39;00m m \u001B[38;5;241m!=\u001B[39m n:\n\u001B[1;32m--> 190\u001B[0m     \u001B[38;5;28;01mraise\u001B[39;00m LinAlgError(\u001B[38;5;124m'\u001B[39m\u001B[38;5;124mLast 2 dimensions of the array must be square\u001B[39m\u001B[38;5;124m'\u001B[39m)\n",
      "\u001B[1;31mLinAlgError\u001B[0m: Last 2 dimensions of the array must be square"
     ]
    }
   ],
   "source": [
    "import numpy as np\n",
    "\n",
    "A = np.array([[2,3,1], [1,-2,4],[3,8,-2],[4,-1,9]])\n",
    "b = np.array([4,-5,13,-6])\n",
    "\n",
    "det = np.linalg.det(A)\n",
    "if det != 0:\n",
    "    x = np.linalg.solve(A, b)#直接求解\n",
    "    print(\"方程组有唯一解:\", x)\n",
    "if det == 0:\n",
    "    r = np.linalg.matrix_rank(A)\n",
    "    if r < A.shape[1]:\n",
    "        print(\"方程组无解\")\n",
    "    else:\n",
    "        print(\"方程组有无穷多解\")"
   ],
   "metadata": {
    "collapsed": false
   }
  },
  {
   "cell_type": "code",
   "execution_count": 5,
   "outputs": [
    {
     "name": "stdout",
     "output_type": "stream",
     "text": [
      "[[ 0.33333333]\n",
      " [ 1.33333333]\n",
      " [-0.66666667]]\n"
     ]
    },
    {
     "name": "stderr",
     "output_type": "stream",
     "text": [
      "C:\\Users\\岢\\AppData\\Local\\Temp\\ipykernel_27844\\153727120.py:6: FutureWarning: `rcond` parameter will change to the default of machine precision times ``max(M, N)`` where M and N are the input matrix dimensions.\n",
      "To use the future default and silence this warning we advise to pass `rcond=None`, to keep using the old, explicitly pass `rcond=-1`.\n",
      "  x = np.linalg.lstsq(A, b)[0] #最小二乘解\n"
     ]
    }
   ],
   "source": [
    "import numpy as np\n",
    "\n",
    "A = np.array([[2,3,1],[1,-2,4],[3,8,-2],[4,-1,9]])\n",
    "b = np.array([[4],[-5],[13],[-6]])\n",
    "\n",
    "x = np.linalg.lstsq(A, b)[0] #最小二乘解\n",
    "print(x)\n"
   ],
   "metadata": {
    "collapsed": false
   }
  },
  {
   "cell_type": "code",
   "execution_count": null,
   "outputs": [],
   "source": [],
   "metadata": {
    "collapsed": false
   }
  }
 ],
 "metadata": {
  "kernelspec": {
   "display_name": "Python 3",
   "language": "python",
   "name": "python3"
  },
  "language_info": {
   "codemirror_mode": {
    "name": "ipython",
    "version": 2
   },
   "file_extension": ".py",
   "mimetype": "text/x-python",
   "name": "python",
   "nbconvert_exporter": "python",
   "pygments_lexer": "ipython2",
   "version": "2.7.6"
  }
 },
 "nbformat": 4,
 "nbformat_minor": 0
}
