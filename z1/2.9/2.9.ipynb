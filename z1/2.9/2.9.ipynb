{
 "cells": [
  {
   "cell_type": "code",
   "execution_count": 1,
   "metadata": {
    "collapsed": true,
    "ExecuteTime": {
     "end_time": "2023-07-12T15:11:08.756345500Z",
     "start_time": "2023-07-12T15:11:08.181679Z"
    }
   },
   "outputs": [],
   "source": [
    "import numpy as np\n",
    "import sympy as sy\n",
    "from scipy.optimize import fsolve, root"
   ]
  },
  {
   "cell_type": "code",
   "execution_count": 2,
   "outputs": [
    {
     "data": {
      "text/plain": "array([ 2.27698396, -0.09232799])"
     },
     "execution_count": 2,
     "metadata": {},
     "output_type": "execute_result"
    }
   ],
   "source": [
    "#数值解\n",
    "#fsolve\n",
    "fx = lambda x: [x[0]**2-x[0]-x[1]-3, x[0]+3*x[1]-2]\n",
    "s1 = fsolve(fx, np.array([1, 1]))\n",
    "s1\n"
   ],
   "metadata": {
    "collapsed": false,
    "ExecuteTime": {
     "end_time": "2023-07-12T15:11:08.771444500Z",
     "start_time": "2023-07-12T15:11:08.757342200Z"
    }
   }
  },
  {
   "cell_type": "code",
   "execution_count": 3,
   "outputs": [
    {
     "data": {
      "text/plain": " message: The solution converged.\n success: True\n  status: 1\n     fun: [ 0.000e+00  0.000e+00]\n       x: [ 2.277e+00 -9.233e-02]\n    nfev: 12\n    fjac: [[ 9.437e-01  3.307e-01]\n           [-3.307e-01  9.437e-01]]\n       r: [ 3.024e+00 -1.933e+00  3.856e+00]\n     qtf: [-4.333e-10  1.518e-10]"
     },
     "execution_count": 3,
     "metadata": {},
     "output_type": "execute_result"
    }
   ],
   "source": [
    "#root\n",
    "a1 = root(fx,np.array([1,1]))\n",
    "a1\n"
   ],
   "metadata": {
    "collapsed": false,
    "ExecuteTime": {
     "end_time": "2023-07-12T15:11:08.798260400Z",
     "start_time": "2023-07-12T15:11:08.772443700Z"
    }
   }
  },
  {
   "cell_type": "code",
   "execution_count": 4,
   "outputs": [
    {
     "data": {
      "text/plain": "[(1/3 - sqrt(34)/3, 5/9 + sqrt(34)/9), (1/3 + sqrt(34)/3, 5/9 - sqrt(34)/9)]"
     },
     "execution_count": 4,
     "metadata": {},
     "output_type": "execute_result"
    }
   ],
   "source": [
    "#符号解\n",
    "x, y = sy.symbols('x y')\n",
    "\n",
    "eq1 = sy.Eq(x**2-y-x-3, 0)\n",
    "eq2 = sy.Eq(x+3*y-2, 0)\n",
    "\n",
    "sol = sy.solve((eq1, eq2), (x, y))\n",
    "sol\n"
   ],
   "metadata": {
    "collapsed": false,
    "ExecuteTime": {
     "end_time": "2023-07-12T15:11:08.924948100Z",
     "start_time": "2023-07-12T15:11:08.788252200Z"
    }
   }
  }
 ],
 "metadata": {
  "kernelspec": {
   "display_name": "Python 3",
   "language": "python",
   "name": "python3"
  },
  "language_info": {
   "codemirror_mode": {
    "name": "ipython",
    "version": 2
   },
   "file_extension": ".py",
   "mimetype": "text/x-python",
   "name": "python",
   "nbconvert_exporter": "python",
   "pygments_lexer": "ipython2",
   "version": "2.7.6"
  }
 },
 "nbformat": 4,
 "nbformat_minor": 0
}
