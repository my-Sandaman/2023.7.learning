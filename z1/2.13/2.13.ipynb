{
 "cells": [
  {
   "cell_type": "code",
   "execution_count": 1,
   "metadata": {
    "collapsed": true,
    "ExecuteTime": {
     "end_time": "2023-07-12T15:17:38.497233300Z",
     "start_time": "2023-07-12T15:17:38.171902900Z"
    }
   },
   "outputs": [],
   "source": [
    "import numpy as np\n",
    "from scipy.optimize import least_squares\n"
   ]
  },
  {
   "cell_type": "code",
   "execution_count": 2,
   "outputs": [],
   "source": [
    "#定义f(x),g(x)函数\n",
    "def f(x):\n",
    "    return (np.abs(x+1)-np.abs(x-1))/2+np.sin(x)\n",
    "\n",
    "def g(x):\n",
    "    return (np.abs(x+3)-np.abs(x-3))/2+np.cos(x)\n"
   ],
   "metadata": {
    "collapsed": false,
    "ExecuteTime": {
     "end_time": "2023-07-12T15:17:38.512774600Z",
     "start_time": "2023-07-12T15:17:38.499306800Z"
    }
   }
  },
  {
   "cell_type": "code",
   "execution_count": 3,
   "outputs": [],
   "source": [
    "fx = lambda x: [\n",
    "    3*f(x[2]) + 4*g(x[3]) - 1 - 2*x[0],\n",
    "    2*f(x[2]) + 6*g(x[3]) - 2 - 3*x[1],\n",
    "    f(x[0]) + 3*g(x[1]) - 3 - x[2] - 5*x[3],\n",
    "    4*f(x[0])+6*g(x[1])-1-5*x[3],\n",
    "    f(x[3])+g(x[3])-2-x[0]-x[0],\n",
    "    2*f(x[0])-10*g(x[2])-5-x[1]+3*x[3]\n",
    "]\n"
   ],
   "metadata": {
    "collapsed": false,
    "ExecuteTime": {
     "end_time": "2023-07-12T15:17:38.532736900Z",
     "start_time": "2023-07-12T15:17:38.514785500Z"
    }
   }
  },
  {
   "cell_type": "code",
   "execution_count": 4,
   "outputs": [
    {
     "data": {
      "text/plain": "     message: `ftol` termination condition is satisfied.\n     success: True\n      status: 2\n         fun: [-7.994e-01  1.132e-02 -1.577e-01  7.737e-02  8.608e-01\n               -4.035e-02]\n           x: [-7.534e-01  2.763e-01 -1.167e+00  1.205e-01]\n        cost: 0.7063074521159828\n         jac: [[-2.000e+00  0.000e+00  1.178e+00  3.519e+00]\n               [-0.000e+00 -3.000e+00  7.850e-01  5.279e+00]\n               ...\n               [-2.000e+00  0.000e+00 -0.000e+00  2.873e+00]\n               [ 3.459e+00 -1.000e+00 -1.920e+01  3.000e+00]]\n        grad: [-1.226e-07 -2.028e-07  3.407e-06 -3.664e-05]\n  optimality: 3.664122367030842e-05\n active_mask: [ 0.000e+00  0.000e+00  0.000e+00  0.000e+00]\n        nfev: 9\n        njev: 9"
     },
     "execution_count": 4,
     "metadata": {},
     "output_type": "execute_result"
    }
   ],
   "source": [
    "result = least_squares(fx, np.array([1, 0, 1, 1]))\n",
    "result\n"
   ],
   "metadata": {
    "collapsed": false,
    "ExecuteTime": {
     "end_time": "2023-07-12T15:17:38.543392400Z",
     "start_time": "2023-07-12T15:17:38.530264300Z"
    }
   }
  },
  {
   "cell_type": "code",
   "execution_count": 4,
   "outputs": [],
   "source": [],
   "metadata": {
    "collapsed": false,
    "ExecuteTime": {
     "end_time": "2023-07-12T15:17:38.588700100Z",
     "start_time": "2023-07-12T15:17:38.544904400Z"
    }
   }
  }
 ],
 "metadata": {
  "kernelspec": {
   "display_name": "Python 3",
   "language": "python",
   "name": "python3"
  },
  "language_info": {
   "codemirror_mode": {
    "name": "ipython",
    "version": 2
   },
   "file_extension": ".py",
   "mimetype": "text/x-python",
   "name": "python",
   "nbconvert_exporter": "python",
   "pygments_lexer": "ipython2",
   "version": "2.7.6"
  }
 },
 "nbformat": 4,
 "nbformat_minor": 0
}
