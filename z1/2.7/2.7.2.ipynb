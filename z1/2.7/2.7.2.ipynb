{
 "cells": [
  {
   "cell_type": "code",
   "execution_count": 1,
   "metadata": {
    "collapsed": true,
    "ExecuteTime": {
     "end_time": "2023-07-12T15:07:53.612507100Z",
     "start_time": "2023-07-12T15:07:53.198184200Z"
    }
   },
   "outputs": [],
   "source": [
    "from scipy.optimize import least_squares\n",
    "from scipy.optimize import fsolve\n"
   ]
  },
  {
   "cell_type": "code",
   "execution_count": 2,
   "outputs": [
    {
     "data": {
      "text/plain": "array([ 29., -13., -15.])"
     },
     "execution_count": 2,
     "metadata": {},
     "output_type": "execute_result"
    }
   ],
   "source": [
    "#唯一解\n",
    "def f(X):\n",
    "    x = X[0]\n",
    "    y = X[1]\n",
    "    z = X[2]  # 切分变量\n",
    "\n",
    "    return [2*x+3*y+z-4,\n",
    "            x-2*y+4*z+5,\n",
    "            7*x+7*y+7*z-7\n",
    "          ]\n",
    "\n",
    "X0 = [1, 2, 3]\n",
    "\n",
    "m =fsolve(f, X0)\n",
    "m\n"
   ],
   "metadata": {
    "collapsed": false,
    "ExecuteTime": {
     "end_time": "2023-07-12T15:07:53.627492300Z",
     "start_time": "2023-07-12T15:07:53.614010400Z"
    }
   }
  },
  {
   "cell_type": "code",
   "execution_count": 3,
   "outputs": [
    {
     "data": {
      "text/plain": "     message: `gtol` termination condition is satisfied.\n     success: True\n      status: 1\n         fun: [ 0.000e+00 -1.776e-15 -8.882e-16]\n           x: [-6.528e-01  1.826e+00 -1.736e-01]\n        cost: 1.9721522630525295e-30\n         jac: [[ 2.000e+00  3.000e+00  1.000e+00]\n               [ 1.000e+00 -2.000e+00  4.000e+00]\n               [ 7.000e+00  7.000e+00  7.000e+00]]\n        grad: [-7.994e-15 -2.665e-15 -1.332e-14]\n  optimality: 1.3322676295501878e-14\n active_mask: [ 0.000e+00  0.000e+00  0.000e+00]\n        nfev: 3\n        njev: 3"
     },
     "execution_count": 3,
     "metadata": {},
     "output_type": "execute_result"
    }
   ],
   "source": [
    "d=least_squares(f,X0)\n",
    "d"
   ],
   "metadata": {
    "collapsed": false,
    "ExecuteTime": {
     "end_time": "2023-07-12T15:07:53.652459300Z",
     "start_time": "2023-07-12T15:07:53.628489400Z"
    }
   }
  }
 ],
 "metadata": {
  "kernelspec": {
   "display_name": "Python 3",
   "language": "python",
   "name": "python3"
  },
  "language_info": {
   "codemirror_mode": {
    "name": "ipython",
    "version": 2
   },
   "file_extension": ".py",
   "mimetype": "text/x-python",
   "name": "python",
   "nbconvert_exporter": "python",
   "pygments_lexer": "ipython2",
   "version": "2.7.6"
  }
 },
 "nbformat": 4,
 "nbformat_minor": 0
}
