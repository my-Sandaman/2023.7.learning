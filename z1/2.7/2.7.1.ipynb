{
 "cells": [
  {
   "cell_type": "code",
   "execution_count": 1,
   "metadata": {
    "collapsed": true,
    "ExecuteTime": {
     "end_time": "2023-07-12T15:06:44.826418800Z",
     "start_time": "2023-07-12T15:06:44.746183300Z"
    }
   },
   "outputs": [],
   "source": [
    "import numpy as np\n"
   ]
  },
  {
   "cell_type": "code",
   "execution_count": 2,
   "outputs": [
    {
     "data": {
      "text/plain": "matrix([[-4.05323966e+15],\n        [ 1.48618788e+16],\n        [ 1.35107989e+16]])"
     },
     "execution_count": 2,
     "metadata": {},
     "output_type": "execute_result"
    }
   ],
   "source": [
    "#唯一解\n",
    "a=np.mat('4,2,-1;3,-1,2;11,3,0')\n",
    "b=np.mat('2;10;8')\n",
    "c=np.linalg.solve(a,b)\n",
    "c\n"
   ],
   "metadata": {
    "collapsed": false,
    "ExecuteTime": {
     "end_time": "2023-07-12T15:06:44.838409200Z",
     "start_time": "2023-07-12T15:06:44.827417Z"
    }
   }
  },
  {
   "cell_type": "code",
   "execution_count": 3,
   "outputs": [
    {
     "data": {
      "text/plain": "matrix([[ 1.21304348],\n        [-1.44782609],\n        [ 1.95652174]])"
     },
     "execution_count": 3,
     "metadata": {},
     "output_type": "execute_result"
    }
   ],
   "source": [
    "#最小二乘解\n",
    "x=np.linalg.lstsq(a,b,rcond=None)\n",
    "x[0]\n"
   ],
   "metadata": {
    "collapsed": false,
    "ExecuteTime": {
     "end_time": "2023-07-12T15:06:44.882389400Z",
     "start_time": "2023-07-12T15:06:44.838409200Z"
    }
   }
  }
 ],
 "metadata": {
  "kernelspec": {
   "display_name": "Python 3",
   "language": "python",
   "name": "python3"
  },
  "language_info": {
   "codemirror_mode": {
    "name": "ipython",
    "version": 2
   },
   "file_extension": ".py",
   "mimetype": "text/x-python",
   "name": "python",
   "nbconvert_exporter": "python",
   "pygments_lexer": "ipython2",
   "version": "2.7.6"
  }
 },
 "nbformat": 4,
 "nbformat_minor": 0
}
