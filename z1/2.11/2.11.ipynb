{
 "cells": [
  {
   "cell_type": "code",
   "execution_count": 1,
   "metadata": {
    "collapsed": true,
    "ExecuteTime": {
     "end_time": "2023-07-12T15:15:03.519588600Z",
     "start_time": "2023-07-12T15:15:03.191373700Z"
    }
   },
   "outputs": [],
   "source": [
    "import numpy as np\n",
    "from scipy.optimize import fsolve, root\n",
    "\n"
   ]
  },
  {
   "cell_type": "code",
   "execution_count": 2,
   "outputs": [],
   "source": [
    "#定义f(x),g(x)函数\n",
    "def f(x):\n",
    "    return (np.abs(x+1)-np.abs(x-1))/2+np.sin(x)\n",
    "\n",
    "def g(x):\n",
    "    return (np.abs(x+3)-np.abs(x-3))/2+np.cos(x)\n"
   ],
   "metadata": {
    "collapsed": false,
    "ExecuteTime": {
     "end_time": "2023-07-12T15:15:03.535075Z",
     "start_time": "2023-07-12T15:15:03.517595200Z"
    }
   }
  },
  {
   "cell_type": "code",
   "execution_count": 3,
   "outputs": [
    {
     "data": {
      "text/plain": "array([-0.85941162,  0.25135985, -0.80919433, -0.0295742 ])"
     },
     "execution_count": 3,
     "metadata": {},
     "output_type": "execute_result"
    }
   ],
   "source": [
    "# 定义fx函数\n",
    "fx = lambda x: [\n",
    "    3*f(x[2]) + 4*g(x[3]) - 1 - 2*x[0],\n",
    "    2*f(x[2]) + 6*g(x[3]) - 2 - 3*x[1],\n",
    "    f(x[0]) + 3*g(x[1]) - 3 - x[2] - 5*x[3],\n",
    "    4*f(x[0])+6*g(x[1])-1-5*x[3]\n",
    "]\n",
    "\n",
    "sol1 = fsolve(fx, np.array([1, 0, 0, 0]))\n",
    "sol1"
   ],
   "metadata": {
    "collapsed": false,
    "ExecuteTime": {
     "end_time": "2023-07-12T15:15:03.559205400Z",
     "start_time": "2023-07-12T15:15:03.534076900Z"
    }
   }
  },
  {
   "cell_type": "code",
   "execution_count": 4,
   "outputs": [
    {
     "data": {
      "text/plain": " message: The solution converged.\n success: True\n  status: 1\n     fun: [ 6.526e-11  4.773e-11 -1.736e-12 -5.973e-11]\n       x: [-8.594e-01  2.514e-01 -8.092e-01 -2.957e-02]\n    nfev: 13\n    fjac: [[-2.932e-01 -1.031e-03  2.219e-01  9.300e-01]\n           [ 4.526e-01 -7.998e-01  3.913e-01  4.843e-02]\n           [-8.383e-01 -4.677e-01  4.784e-02 -2.762e-01]\n           [-8.067e-02  3.762e-01  8.918e-01 -2.378e-01]]\n       r: [ 6.807e+00  5.264e+00 -1.686e+00 -7.581e+00  3.625e+00\n           -7.911e-01 -5.409e+00 -5.929e+00 -4.898e+00 -1.490e+00]\n     qtf: [-2.572e-08 -4.481e-09 -1.373e-08  4.982e-09]"
     },
     "execution_count": 4,
     "metadata": {},
     "output_type": "execute_result"
    }
   ],
   "source": [
    "sol2 = root(fx, np.array([0, 0, 0, 0]))\n",
    "sol2\n"
   ],
   "metadata": {
    "collapsed": false,
    "ExecuteTime": {
     "end_time": "2023-07-12T15:15:03.564878500Z",
     "start_time": "2023-07-12T15:15:03.549039300Z"
    }
   }
  },
  {
   "cell_type": "code",
   "execution_count": 4,
   "outputs": [],
   "source": [],
   "metadata": {
    "collapsed": false,
    "ExecuteTime": {
     "end_time": "2023-07-12T15:15:03.579273900Z",
     "start_time": "2023-07-12T15:15:03.565847800Z"
    }
   }
  }
 ],
 "metadata": {
  "kernelspec": {
   "display_name": "Python 3",
   "language": "python",
   "name": "python3"
  },
  "language_info": {
   "codemirror_mode": {
    "name": "ipython",
    "version": 2
   },
   "file_extension": ".py",
   "mimetype": "text/x-python",
   "name": "python",
   "nbconvert_exporter": "python",
   "pygments_lexer": "ipython2",
   "version": "2.7.6"
  }
 },
 "nbformat": 4,
 "nbformat_minor": 0
}
