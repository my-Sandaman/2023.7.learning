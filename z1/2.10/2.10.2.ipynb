{
 "cells": [
  {
   "cell_type": "code",
   "execution_count": 11,
   "metadata": {
    "collapsed": true,
    "ExecuteTime": {
     "end_time": "2023-07-14T01:27:00.169154300Z",
     "start_time": "2023-07-14T01:26:59.884633Z"
    }
   },
   "outputs": [],
   "source": [
    "import numpy as np\n",
    "from scipy.integrate import quad\n",
    "import sympy as sp\n"
   ]
  },
  {
   "cell_type": "code",
   "execution_count": 2,
   "outputs": [
    {
     "data": {
      "text/plain": "103908.1770174824"
     },
     "execution_count": 2,
     "metadata": {},
     "output_type": "execute_result"
    }
   ],
   "source": [
    "def fun46(y):\n",
    "    return np.pi*1000*9.8*(y**3-2*y**2-y+2)\n",
    "\n",
    "def fun47(y):\n",
    "    return np.pi*1000*9.8*(y**3-4*y**2+4*y)\n",
    "\n",
    "I1 = quad(fun46, -1, 0.5)\n",
    "I2 = quad(fun47, 0.5, 2)\n",
    "\n",
    "I1[0]+I2[0]\n"
   ],
   "metadata": {
    "collapsed": false,
    "ExecuteTime": {
     "end_time": "2023-07-14T01:14:23.885874Z",
     "start_time": "2023-07-14T01:14:23.872713200Z"
    }
   }
  },
  {
   "cell_type": "code",
   "execution_count": 7,
   "outputs": [
    {
     "data": {
      "text/plain": "y**4/4 - 2*y**3/3 - y**2/2 + 2*y",
      "text/latex": "$\\displaystyle \\frac{y^{4}}{4} - \\frac{2 y^{3}}{3} - \\frac{y^{2}}{2} + 2 y$"
     },
     "execution_count": 7,
     "metadata": {},
     "output_type": "execute_result"
    }
   ],
   "source": [
    "y1 = sp.symbols('y')\n",
    "integral1 = sp.integrate((y1**3-2*y1**2-y1+2), y1)\n",
    "integral1\n"
   ],
   "metadata": {
    "collapsed": false,
    "ExecuteTime": {
     "end_time": "2023-07-14T01:14:58.526026300Z",
     "start_time": "2023-07-14T01:14:58.496127Z"
    }
   }
  },
  {
   "cell_type": "code",
   "execution_count": 6,
   "outputs": [
    {
     "data": {
      "text/plain": "y**4/4 - 4*y**3/3 + 2*y**2",
      "text/latex": "$\\displaystyle \\frac{y^{4}}{4} - \\frac{4 y^{3}}{3} + 2 y^{2}$"
     },
     "execution_count": 6,
     "metadata": {},
     "output_type": "execute_result"
    }
   ],
   "source": [
    "y2 = sp.symbols('y')\n",
    "integral2 = sp.integrate((y2**3-4*y2**2+4*y2), y2)\n",
    "integral2"
   ],
   "metadata": {
    "collapsed": false,
    "ExecuteTime": {
     "end_time": "2023-07-14T01:14:56.684137800Z",
     "start_time": "2023-07-14T01:14:56.653872400Z"
    }
   }
  },
  {
   "cell_type": "code",
   "execution_count": 9,
   "outputs": [
    {
     "data": {
      "text/plain": "3.3750000000000004"
     },
     "execution_count": 9,
     "metadata": {},
     "output_type": "execute_result"
    }
   ],
   "source": [
    "def f(m):\n",
    "    return (m**4)/4-(2*m**3)/3-(m**2)/2+2*m\n",
    "\n",
    "m = sp.symbols('m')\n",
    "symbol_answer1 = f(0.5) - f(-1)\n",
    "\n",
    "def f(n):\n",
    "    return (n**4)/4-(4*n**3)/3+2*(n**2)\n",
    "\n",
    "m = sp.symbols('m')\n",
    "symbol_answer2 = f(2) - f(0.5)\n",
    "\n",
    "symbol_answer=symbol_answer1+symbol_answer2\n",
    "symbol_answer\n"
   ],
   "metadata": {
    "collapsed": false,
    "ExecuteTime": {
     "end_time": "2023-07-14T01:20:48.806687600Z",
     "start_time": "2023-07-14T01:20:48.791691Z"
    }
   }
  }
 ],
 "metadata": {
  "kernelspec": {
   "display_name": "Python 3",
   "language": "python",
   "name": "python3"
  },
  "language_info": {
   "codemirror_mode": {
    "name": "ipython",
    "version": 2
   },
   "file_extension": ".py",
   "mimetype": "text/x-python",
   "name": "python",
   "nbconvert_exporter": "python",
   "pygments_lexer": "ipython2",
   "version": "2.7.6"
  }
 },
 "nbformat": 4,
 "nbformat_minor": 0
}
